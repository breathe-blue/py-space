{
 "cells": [
  {
   "cell_type": "markdown",
   "id": "b4f6bf48",
   "metadata": {},
   "source": [
    "## **Introduction to Python**\n",
    "Python is a high-level, interpreted programming language known for its readability and simplicity.<br>\n",
    "Versatile and widely used in various domains both in backend and frontend.<br>\n",
    "Interpreted language that executes line by line.<br>\n",
    "Has rich library support that is open-source and free.<br>\n",
    "Platform-independent where the script can run on any operating system.<br>\n",
    "Dynamically typed where data types of variables do not have to be declared when creating as it infers the type, which makes the code more flexible and easy to work with."
   ]
  },
  {
   "cell_type": "code",
   "execution_count": null,
   "id": "de7e96c6",
   "metadata": {},
   "outputs": [],
   "source": [
    "# print a message\n",
    "print(\"Hello, World!\")"
   ]
  },
  {
   "cell_type": "markdown",
   "id": "c8cbf0e5",
   "metadata": {},
   "source": [
    "### **Comments**\n",
    "`#` : Use for single comment \n",
    "\n",
    "`\"\"\"` : Use for multiple line comment"
   ]
  },
  {
   "cell_type": "code",
   "execution_count": null,
   "id": "d2b93ebf",
   "metadata": {},
   "outputs": [],
   "source": [
    "# single line comment\n",
    "\n",
    "\"\"\"\n",
    "multiple line \n",
    "comment\n",
    "\"\"\""
   ]
  },
  {
   "cell_type": "markdown",
   "id": "dbf35115",
   "metadata": {},
   "source": [
    "### **Variables**\n",
    "Variables are used to store and manipulate data.<br>\n",
    "They are symbolic names pointing to objects or values in memory.<br>\n",
    "Defined by assigning them a value using the assignment operator.<br>\n",
    "Case-sensitive and dynamically typed, allowing type changes through reassignment.<br>\n",
    "Exist in different scopes (global, local, non-local, or built-in), which affects accessibility.<br>\n",
    "Can have an unlimited number of variables, limited only by computer memory.<br>"
   ]
  },
  {
   "cell_type": "code",
   "execution_count": null,
   "id": "e62c9247",
   "metadata": {},
   "outputs": [
    {
     "name": "stdout",
     "output_type": "stream",
     "text": [
      "Lewis Hamilton  30 32.09 ['apple', 'watermelon', 'mango'] ('Blue', 'Green', 'Red') {1: 'first', 2: 'second', 3: 'third'}\n"
     ]
    }
   ],
   "source": [
    "# assigning variables \n",
    "name = \"Lewis Hamilton \"\n",
    "age = 40\n",
    "fruits = [\"apple\", \"watermelon\", \"mango\"]\n",
    "ordinals = {1: \"first\", 2: \"second\", 3: \"third\"}\n",
    "\n",
    "print(name, age, fruits, ordinals)\n",
    "\n",
    "# variables can also refer to custom objects like an instance of a class\n",
    "class CustomClass:\n",
    "    pass\n",
    "instance = CustomClass()"
   ]
  },
  {
   "cell_type": "markdown",
   "id": "e16adb34",
   "metadata": {},
   "source": [
    "### **Input and Output**\n",
    "`input()` function takes in user input from the console and always returns a string.<br>\n",
    "`print()` function displays the output in the console."
   ]
  },
  {
   "cell_type": "code",
   "execution_count": null,
   "id": "ad60b385",
   "metadata": {},
   "outputs": [],
   "source": [
    "# input\n",
    "name = input(\"Enter your name: \")\n",
    "age = int(input(\"Enter your age: \"))\n",
    "\n",
    "# output\n",
    "print(f\"Hello, {name}!\")\n",
    "print(f\"You are {age} yrs old\")"
   ]
  },
  {
   "cell_type": "markdown",
   "id": "d75ffae7",
   "metadata": {},
   "source": [
    "### **Data Types**\n",
    "\n",
    "Text Type:\t`str`\n",
    "```python\n",
    "# string \n",
    "name = \"John\"\n",
    "alphanumeric = \"Code2301AB\"\n",
    "```\n",
    "\n",
    "Numeric Types:\t`int`, `float`, `complex`\n",
    "```python\n",
    "# integer\n",
    "age = 30\n",
    "\n",
    "# float\n",
    "height = 6.1\n",
    "\n",
    "# complex \n",
    "complex = 23 + 3j\n",
    "```\n",
    "\n",
    "Sequence Types:\t`list`, `tuple`, `range`\n",
    "```python\n",
    "# list\n",
    "fruits = [\"apple\", \"watermelon\", \"grapes\"]\n",
    "\n",
    "# tuple\n",
    "fruits = (\"apple\", \"watermelon\", \"grapes\")\t\n",
    "\n",
    "# range\n",
    "numbers = range(5, 15)  \n",
    "```\n",
    "\n",
    "Mapping Type:\t`dict`\n",
    "```python\n",
    "# dictionary\n",
    "person = {\"name\": \"Alice\", \"age\": 25}\n",
    "```    \n",
    "\n",
    "Set Types:\t`set`, `frozenset`\n",
    "```python\n",
    "# set\n",
    "colours = {\"green\", \"blue\", \"red\"}\t    \n",
    "\n",
    "#frozenset\n",
    "colours = frozenset({\"green\", \"blue\", \"red\"})\t\n",
    "```    \n",
    "\n",
    "Boolean Type:\t`bool`\n",
    "```python\n",
    "# boolean\n",
    "a = True\n",
    "b = False\n",
    "```    \n",
    "\n",
    "Binary Types:\t`bytes`, `bytearray`, `memoryview`\n",
    "```python\n",
    "# bytes\n",
    "a = b\"Greetings\"\n",
    "\n",
    "# bytearray\t\t\n",
    "a = bytearray(5)\n",
    "\n",
    "# memoryview\t\t\n",
    "a = memoryview(bytes(5))\t\t\n",
    "```    \n",
    "\n",
    "None Type:\t`NoneType`\n",
    "```python\n",
    "x = None\n",
    "```"
   ]
  },
  {
   "cell_type": "markdown",
   "id": "3aa51106",
   "metadata": {},
   "source": [
    "### **Type Casting**\n",
    "Process of converting data of one type to another.<br>\n",
    "\n",
    "#### **Implicit Type Casting**\n",
    "Python automatically converts one data type to another when data type is not defined. <br>\n",
    "Always converts smaller data types to larger data types to avoid the loss of data."
   ]
  },
  {
   "cell_type": "code",
   "execution_count": null,
   "id": "28b937b3",
   "metadata": {},
   "outputs": [],
   "source": [
    "state = 'Delhi'\n",
    "pin = 1130\n",
    "value = state + pin\n",
    "\n",
    "# display new value and resulting data type\n",
    "print(\"Value:\",value)\n",
    "print(\"Data Type:\",type(value))"
   ]
  },
  {
   "cell_type": "markdown",
   "id": "603ca4e4",
   "metadata": {},
   "source": [
    "\n",
    "### **Explicit Type Casting**\n",
    "Users convert the data type of an object to required data type.<br>\n",
    "Loss of data may occur as user enforce the object to a specific data type."
   ]
  },
  {
   "cell_type": "code",
   "execution_count": null,
   "id": "3877b697",
   "metadata": {},
   "outputs": [],
   "source": [
    "pincode = 110030\n",
    "pin_code = str(pincode)\n",
    "\n",
    "# display resulting data type\n",
    "print(\"pincode datatype:\",type(pincode))\n",
    "print(\"pin_code datatype:\",type(pin_code))"
   ]
  },
  {
   "cell_type": "markdown",
   "id": "85f7d737",
   "metadata": {},
   "source": [
    "### **Copying**\n",
    "Using the `=` operator does not create a new object.<br>\n",
    "It simply creates a new variable name that references the same object in memory.<br>\n",
    "Changes made using one variable will affect the other.<br>\n",
    "Both variables point to the same memory address.<br>"
   ]
  },
  {
   "cell_type": "code",
   "execution_count": null,
   "id": "c357c93a",
   "metadata": {},
   "outputs": [],
   "source": [
    "list1 = [1, 2, 3]\n",
    "list2 = list1  # reference\n",
    "\n",
    "list2[0] = 99\n",
    "\n",
    "print(\"list1:\", list1)  \n",
    "print(\"list2:\", list2) "
   ]
  },
  {
   "cell_type": "markdown",
   "id": "6b5ffef0",
   "metadata": {},
   "source": [
    "#### **Shallow Copy**\n",
    "Creates a new outer object, but nested objects are not copied.<br>\n",
    "Instead, the nested objects are still referenced from the original.<br>\n",
    "Changes to nested elements will affect both the copy and the original.<br>\n",
    "Uses the `copy.copy()` function.<br>\n",
    "Outer object is a new instance while inner objects are still shared."
   ]
  },
  {
   "cell_type": "code",
   "execution_count": null,
   "id": "4e05c333",
   "metadata": {},
   "outputs": [],
   "source": [
    "import copy\n",
    "\n",
    "list1 = [[1, 2], [3, 4]]\n",
    "shallow_copy = copy.copy(list1)\n",
    "\n",
    "shallow_copy[0][0] = 99\n",
    "\n",
    "print(\"Original List:\", list1)      \n",
    "print(\"Shallow Copy:\", shallow_copy)"
   ]
  },
  {
   "cell_type": "markdown",
   "id": "3a8685b1",
   "metadata": {},
   "source": [
    "#### **Deep Copy**\n",
    "Creates a completely independent copy, including all nested objects.<br>\n",
    "Changes made to the deep copy do not affect the original object.<br>\n",
    "Uses the `copy.deepcopy()` function.<br>\n",
    "Both outer and inner objects are completely separate.<br>\n",
    "Safe to modify one without affecting the other"
   ]
  },
  {
   "cell_type": "code",
   "execution_count": null,
   "id": "41793fb2",
   "metadata": {},
   "outputs": [],
   "source": [
    "import copy\n",
    "\n",
    "list1 = [[1, 2], [3, 4]]\n",
    "deep_copy = copy.deepcopy(list1)\n",
    "\n",
    "deep_copy[0][0] = 99\n",
    "\n",
    "print(\"Original List:\", list1) \n",
    "print(\"Deep Copy:\", deep_copy)  "
   ]
  },
  {
   "cell_type": "markdown",
   "id": "4819ee0d",
   "metadata": {},
   "source": [
    "### **Operators**\n",
    "Special symbols that perform operations on variables and its values. <br>\n",
    "\n",
    "Arithmetic : Perform mathematical operations like addition, subtraction, multiplication, etc."
   ]
  },
  {
   "cell_type": "code",
   "execution_count": 1,
   "id": "af175696",
   "metadata": {},
   "outputs": [
    {
     "name": "stdout",
     "output_type": "stream",
     "text": [
      "Addition      : 15\n",
      "Subtraction   : 5\n",
      "Multiply      : 50\n",
      "Divide        : 2.0\n",
      "Modulus       : 0\n",
      "Exponent      : 100000\n",
      "Floor Divide  : 0\n"
     ]
    }
   ],
   "source": [
    "x = 10\n",
    "y = 5\n",
    "      \n",
    "print(x - y)  # subtraction\n",
    "print(x * y)  # multiplication\n",
    "print(x / y)  # division\n",
    "print(x % y)  # modulus\n",
    "print(x ** y) # exponentiation\n",
    "print(x // y) # floor division"
   ]
  },
  {
   "cell_type": "markdown",
   "id": "59c9f068",
   "metadata": {},
   "source": [
    "Comparison : Compare two values and return a boolean (`True` or `False`)."
   ]
  },
  {
   "cell_type": "code",
   "execution_count": null,
   "id": "9b3fe2f8",
   "metadata": {},
   "outputs": [],
   "source": [
    "x = 10\n",
    "y = 5\n",
    "\n",
    "print(x == y)  # equal to\n",
    "print(x != y)  # not equal to\n",
    "print(x > y)   # greater than\n",
    "print(x < y)   # less than\n",
    "print(x >= y)  # greater than or equal to\n",
    "print(x <= y)  # less than or equal to"
   ]
  },
  {
   "cell_type": "markdown",
   "id": "86e8e69b",
   "metadata": {},
   "source": [
    "Logical : Used to combine conditional statements."
   ]
  },
  {
   "cell_type": "code",
   "execution_count": null,
   "id": "ab19e097",
   "metadata": {},
   "outputs": [],
   "source": [
    "x = True\n",
    "y = False\n",
    "\n",
    "print(x and y)  # AND\n",
    "print(x or y)   # OR\n",
    "print(not x)    # NOT"
   ]
  },
  {
   "cell_type": "markdown",
   "id": "58ad8af0",
   "metadata": {},
   "source": [
    "Bitwise : Perform operations at the bit level.\n"
   ]
  },
  {
   "cell_type": "code",
   "execution_count": null,
   "id": "43180048",
   "metadata": {},
   "outputs": [],
   "source": [
    "a = 5  # 0101 in binary\n",
    "b = 3  # 0011 in binary\n",
    "\n",
    "print(a & b)  # AND\n",
    "print(a | b)  # OR\n",
    "print(a ^ b)  # XOR\n",
    "print(~a)     # NOT\n",
    "print(a << 1) # left shift\n",
    "print(a >> 1) # right shift"
   ]
  },
  {
   "cell_type": "markdown",
   "id": "0e47a233",
   "metadata": {},
   "source": [
    "Assignment : Used to assign values to variables.\n"
   ]
  },
  {
   "cell_type": "code",
   "execution_count": null,
   "id": "f6334628",
   "metadata": {},
   "outputs": [],
   "source": [
    "x = 10\n",
    "x += 5  # x = x + 5\n",
    "x -= 3  # x = x - 3\n",
    "x *= 2  # x = x * 2\n",
    "x /= 4  # x = x / 4\n",
    "x %= 3  # x = x % 3\n",
    "x **= 2 # x = x ** 2\n",
    "x //= 2 # x = x // 2"
   ]
  },
  {
   "cell_type": "markdown",
   "id": "6afef271",
   "metadata": {},
   "source": [
    "Identity : Used to compare memory locations of objects."
   ]
  },
  {
   "cell_type": "code",
   "execution_count": null,
   "id": "7e39d833",
   "metadata": {},
   "outputs": [],
   "source": [
    "a = [1, 2, 3]\n",
    "b = a\n",
    "c = [1, 2, 3]\n",
    "\n",
    "print(a is b)   # true because 'b' refers to 'a'\n",
    "print(a is c)   # false because 'c' is a different object\n",
    "print(a is not c) # true because 'c' is not the same object as 'a'"
   ]
  },
  {
   "cell_type": "markdown",
   "id": "1ca6367f",
   "metadata": {},
   "source": [
    "Membership : Check if a value is present in a sequence."
   ]
  },
  {
   "cell_type": "code",
   "execution_count": null,
   "id": "d30ee392",
   "metadata": {},
   "outputs": [],
   "source": [
    "fruits = [\"apple\", \"banana\", \"cherry\"]\n",
    "\n",
    "print(\"apple\" in fruits)   # true \n",
    "print(\"mango\" not in fruits) # true"
   ]
  },
  {
   "cell_type": "markdown",
   "id": "e0aa0b7d",
   "metadata": {},
   "source": [
    "## **Conditional Statements**\n",
    "Conditional statements allow your code to make decisions based on conditions.<br>\n",
    "Perform different computations and actions depending on whether the condition is True or False.<br>\n",
    "Common conditional statements include `if`, `elif` (else if), `else`, and `match case`."
   ]
  },
  {
   "cell_type": "code",
   "execution_count": null,
   "id": "64ab6b1f",
   "metadata": {},
   "outputs": [],
   "source": [
    "## if statement\n",
    "\n",
    "a = 150\n",
    "\n",
    "if a > 100 and a < 200:\n",
    "    print(\"True\") # prints statement\n",
    "else:\n",
    "    print(\"False\") # skip\n"
   ]
  },
  {
   "cell_type": "code",
   "execution_count": null,
   "id": "64f52fc0",
   "metadata": {},
   "outputs": [],
   "source": [
    "## elif statement\n",
    "\n",
    "a = 150\n",
    "\n",
    "if a < 100:\n",
    "    print(\"Less than 100\") # skip\n",
    "elif a > 100 and a < 200: \n",
    "    print(\"More than 100 but less than 200\") # prints statement\n",
    "else:\n",
    "    print(\"More than 200\") # skip"
   ]
  },
  {
   "cell_type": "markdown",
   "id": "2a8e5689",
   "metadata": {},
   "source": [
    "### **match case statement**\n",
    "Similar to switch statements in other programming languages.<br>\n",
    "Matches a value against multiple case patterns.\n"
   ]
  },
  {
   "cell_type": "code",
   "execution_count": null,
   "id": "cd197d5a",
   "metadata": {},
   "outputs": [],
   "source": [
    "def check_day(day):\n",
    "    match day:\n",
    "        case \"Monday\":\n",
    "            print(\"Start of the week!\") # skip\n",
    "        case \"Friday\":\n",
    "            print(\"Weekend is near!\") # prints statement\n",
    "        case \"Sunday\":\n",
    "            print(\"Relax, it's Sunday!\") # skip\n",
    "        case _:\n",
    "            print(\"It's a regular day.\") # skip\n",
    "\n",
    "check_day(\"Friday\")"
   ]
  },
  {
   "cell_type": "markdown",
   "id": "5d05ee0a",
   "metadata": {},
   "source": [
    "## **Loops**\n",
    "Loops are executed for repetitive tasks with conditions.<br>\n",
    "\n",
    "### **for loop**\n",
    "Used to iterate over a sequence (e.g., a list, dictionary, or string)."
   ]
  },
  {
   "cell_type": "code",
   "execution_count": null,
   "id": "81862e9f",
   "metadata": {},
   "outputs": [],
   "source": [
    "fruits = [\"apple\", \"banana\", \"cherry\"]\n",
    "for fruit in fruits:\n",
    "    print(\"I love \" + fruit)"
   ]
  },
  {
   "cell_type": "markdown",
   "id": "97273af5",
   "metadata": {},
   "source": [
    "### **while loop**\n",
    "Continues executing as long as a specified condition is True."
   ]
  },
  {
   "cell_type": "code",
   "execution_count": null,
   "id": "0175300e",
   "metadata": {},
   "outputs": [],
   "source": [
    "count = 0\n",
    "while count < 5:\n",
    "    print(\"Count: \" + str(count))\n",
    "    count += 1"
   ]
  },
  {
   "cell_type": "markdown",
   "id": "ad872547",
   "metadata": {},
   "source": [
    "### **do while loop**\n",
    "Python does not have a built-in `do while` loop, but it can be implemented using `while`.<br>\n",
    "The loop runs at least once before checking the condition.\n"
   ]
  },
  {
   "cell_type": "code",
   "execution_count": null,
   "id": "f19a938f",
   "metadata": {},
   "outputs": [],
   "source": [
    "i = 1\n",
    "while True:\n",
    "    print(\"Iteration:\", i)\n",
    "    i += 1\n",
    "    if i > 5:\n",
    "        break"
   ]
  },
  {
   "cell_type": "markdown",
   "id": "e336c999",
   "metadata": {},
   "source": [
    "## **Loop Control Statements**\n",
    "Loop control statements modify the normal sequence of execution in loops.<br>\n",
    "\n",
    "`break` : Terminates the loop completely when encountered."
   ]
  },
  {
   "cell_type": "code",
   "execution_count": null,
   "id": "e95a2c0a",
   "metadata": {},
   "outputs": [],
   "source": [
    "for i in range(10):\n",
    "    if i == 5:\n",
    "        break  # loop terminates when i is 5\n",
    "    print(i)"
   ]
  },
  {
   "cell_type": "markdown",
   "id": "66aed150",
   "metadata": {},
   "source": [
    "`continue` : Skips the rest of the code inside the loop for the current iteration and moves to the next iteration."
   ]
  },
  {
   "cell_type": "code",
   "execution_count": null,
   "id": "88c23642",
   "metadata": {},
   "outputs": [],
   "source": [
    "for i in range(10):\n",
    "    if i == 5:\n",
    "        continue  # skips the iteration when i is 5\n",
    "    print(i)"
   ]
  },
  {
   "cell_type": "markdown",
   "id": "2e532c5d",
   "metadata": {},
   "source": [
    "`pass` : Used as a placeholder for future code, so the loop doesn’t produce an error when no code is written.\n"
   ]
  },
  {
   "cell_type": "code",
   "execution_count": null,
   "id": "308e78c4",
   "metadata": {},
   "outputs": [],
   "source": [
    "for i in range(10):\n",
    "    if i == 5:\n",
    "        pass  # placeholder for future implementation\n",
    "    print(i)"
   ]
  },
  {
   "cell_type": "markdown",
   "id": "cd194333",
   "metadata": {},
   "source": [
    "## **Errors and Exceptions**\n",
    "Exceptions are events that occur during the execution of a program and disrupt the normal flow of instructions.<br> \n",
    "When an error occurs an exception object is raised.<br>\n",
    "Exception objects can be handled using exception-handling mechanisms.<br>\n",
    "Python has several built-in exceptions that indicate different error conditions.\n",
    "\n",
    "### **Common Exceptions**\n",
    "`SyntaxError` : Occurs when there is a syntax mistake in the Python code."
   ]
  },
  {
   "cell_type": "code",
   "execution_count": 2,
   "id": "89d6e4fe",
   "metadata": {},
   "outputs": [
    {
     "ename": "SyntaxError",
     "evalue": "incomplete input (3943997553.py, line 1)",
     "output_type": "error",
     "traceback": [
      "\u001b[1;36m  Cell \u001b[1;32mIn[2], line 1\u001b[1;36m\u001b[0m\n\u001b[1;33m    print('Hello'  # missing closing parenthesis\u001b[0m\n\u001b[1;37m                                                ^\u001b[0m\n\u001b[1;31mSyntaxError\u001b[0m\u001b[1;31m:\u001b[0m incomplete input\n"
     ]
    }
   ],
   "source": [
    "print('Hello'  # missing closing parenthesis"
   ]
  },
  {
   "cell_type": "markdown",
   "id": "fb72906f",
   "metadata": {},
   "source": [
    "`TypeError`: Occurs when an operation is performed on an inappropriate data type.\n"
   ]
  },
  {
   "cell_type": "code",
   "execution_count": 3,
   "id": "65199e64",
   "metadata": {},
   "outputs": [
    {
     "ename": "TypeError",
     "evalue": "unsupported operand type(s) for +: 'int' and 'str'",
     "output_type": "error",
     "traceback": [
      "\u001b[1;31m---------------------------------------------------------------------------\u001b[0m",
      "\u001b[1;31mTypeError\u001b[0m                                 Traceback (most recent call last)",
      "Cell \u001b[1;32mIn[3], line 1\u001b[0m\n\u001b[1;32m----> 1\u001b[0m x \u001b[38;5;241m=\u001b[39m \u001b[38;5;241m5\u001b[39m \u001b[38;5;241m+\u001b[39m \u001b[38;5;124m'\u001b[39m\u001b[38;5;124mHello\u001b[39m\u001b[38;5;124m'\u001b[39m\n",
      "\u001b[1;31mTypeError\u001b[0m: unsupported operand type(s) for +: 'int' and 'str'"
     ]
    }
   ],
   "source": [
    "x = 5 + 'Hello'  # adding integer and string\n"
   ]
  },
  {
   "cell_type": "markdown",
   "id": "6c7a33d6",
   "metadata": {},
   "source": [
    "`ValueError` : Occurs whn a function receives an arguent of the right type but with an inappropriate value.\n"
   ]
  },
  {
   "cell_type": "code",
   "execution_count": null,
   "id": "b8c05c4f",
   "metadata": {},
   "outputs": [],
   "source": [
    "num = int('Hello')  # cannot convert string to integer\n"
   ]
  },
  {
   "cell_type": "markdown",
   "id": "225c050d",
   "metadata": {},
   "source": [
    "`KeyError` : Occurs when a dictionary key is not found.\n"
   ]
  },
  {
   "cell_type": "code",
   "execution_count": null,
   "id": "2de44846",
   "metadata": {},
   "outputs": [],
   "source": [
    "d = {'name': 'Alice'}\n",
    "print(d['age'])  # 'age' key does not exist"
   ]
  },
  {
   "cell_type": "markdown",
   "id": "afbba5dc",
   "metadata": {},
   "source": [
    "`IndexError` : Occurs when trying to access an index that is out of range.\n"
   ]
  },
  {
   "cell_type": "code",
   "execution_count": null,
   "id": "ffc01dae",
   "metadata": {},
   "outputs": [],
   "source": [
    "list = [1, 2, 3]\n",
    "print(list[5])  # index out of range\n"
   ]
  },
  {
   "cell_type": "markdown",
   "id": "e4f79812",
   "metadata": {},
   "source": [
    "`AttributeError` : Occurs when an invalid attribute is accessed on an object.\n"
   ]
  },
  {
   "cell_type": "code",
   "execution_count": null,
   "id": "4116da9d",
   "metadata": {},
   "outputs": [],
   "source": [
    "x = 10\n",
    "x.append(5)  # integers do not have 'append' method\n"
   ]
  },
  {
   "cell_type": "markdown",
   "id": "a1c118ec",
   "metadata": {},
   "source": [
    "`ImportError / ModuleNotFoundError` : Occurs when an import statement fails.\n"
   ]
  },
  {
   "cell_type": "code",
   "execution_count": null,
   "id": "bfb08cee",
   "metadata": {},
   "outputs": [],
   "source": [
    "import nonexistent_module\n"
   ]
  },
  {
   "cell_type": "code",
   "execution_count": null,
   "id": "b82e522e",
   "metadata": {},
   "outputs": [],
   "source": [
    "### **Exception Handling using `try-except`**\n",
    "try:\n",
    "    print(10 / 0)\n",
    "except ZeroDivisionError:\n",
    "    print(\"Cannot divide by zero!\")\n"
   ]
  },
  {
   "cell_type": "code",
   "execution_count": null,
   "id": "e9d423e5",
   "metadata": {},
   "outputs": [],
   "source": [
    "### **Handling Multiple Exceptions**\n",
    "try:\n",
    "    x = int(\"Hello\")\n",
    "except (ValueError, TypeError) as e:\n",
    "    print(f\"Error occurred: {e}\")"
   ]
  },
  {
   "cell_type": "code",
   "execution_count": null,
   "id": "4b0eb78b",
   "metadata": {},
   "outputs": [],
   "source": [
    "### **Using `else` and `finally`**\n",
    "try:\n",
    "    num = int(input(\"Enter a number: \"))\n",
    "    result = 10 / num\n",
    "except ZeroDivisionError as e:\n",
    "    print(f\"Error occurred: {e}\")\n",
    "except ValueError as e:\n",
    "    print(f\"Invalid input. Error: {e}\")\n",
    "else:\n",
    "    print(f\"Result: {result}\")\n",
    "finally:\n",
    "    print(\"Execution completed.\")\n"
   ]
  },
  {
   "cell_type": "markdown",
   "id": "0ba56f0b",
   "metadata": {},
   "source": [
    "### **Identifying Unknown Errors**\n",
    "If you do not know what exception may occur, you can catch all exceptions using a generic `Exception` block.\n"
   ]
  },
  {
   "cell_type": "code",
   "execution_count": null,
   "id": "1ac56194",
   "metadata": {},
   "outputs": [],
   "source": [
    "try:\n",
    "    # some unknown operation that may raise an exception\n",
    "    x = 10 / 0\n",
    "except Exception as e:\n",
    "    print(f\"An unexpected error occurred: {e}\")"
   ]
  },
  {
   "cell_type": "code",
   "execution_count": null,
   "id": "737e80f5",
   "metadata": {},
   "outputs": [],
   "source": [
    "### **Raising Exceptions Manually**\n",
    "x = -5\n",
    "if x < 0:\n",
    "    raise ValueError(\"Negative numbers are not allowed\")\n"
   ]
  }
 ],
 "metadata": {
  "kernelspec": {
   "display_name": "Python 3",
   "language": "python",
   "name": "python3"
  },
  "language_info": {
   "codemirror_mode": {
    "name": "ipython",
    "version": 3
   },
   "file_extension": ".py",
   "mimetype": "text/x-python",
   "name": "python",
   "nbconvert_exporter": "python",
   "pygments_lexer": "ipython3",
   "version": "3.11.10"
  }
 },
 "nbformat": 4,
 "nbformat_minor": 5
}
